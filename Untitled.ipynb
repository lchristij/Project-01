{
 "cells": [
  {
   "cell_type": "code",
   "execution_count": 1,
   "metadata": {},
   "outputs": [
    {
     "name": "stdout",
     "output_type": "stream",
     "text": [
      "Collecting hvplotNote: you may need to restart the kernel to use updated packages.\n",
      "\n",
      "  Downloading hvplot-0.7.0-py2.py3-none-any.whl (65 kB)\n",
      "Collecting colorcet>=2\n",
      "  Downloading colorcet-2.0.2-py2.py3-none-any.whl (1.6 MB)\n",
      "Collecting holoviews>=1.11.0\n",
      "  Downloading holoviews-1.14.1-py2.py3-none-any.whl (4.2 MB)\n",
      "Requirement already satisfied, skipping upgrade: pandas in c:\\users\\localuser\\anaconda3\\lib\\site-packages (from hvplot) (1.1.3)\n",
      "Requirement already satisfied, skipping upgrade: numpy>=1.15 in c:\\users\\localuser\\anaconda3\\lib\\site-packages (from hvplot) (1.19.2)\n",
      "Requirement already satisfied, skipping upgrade: bokeh>=1.0.0 in c:\\users\\localuser\\anaconda3\\lib\\site-packages (from hvplot) (2.2.3)\n",
      "Collecting param>=1.7.0\n",
      "  Downloading param-1.10.0-py2.py3-none-any.whl (75 kB)\n",
      "Collecting pyct>=0.4.4\n",
      "  Downloading pyct-0.4.8-py2.py3-none-any.whl (15 kB)\n",
      "Collecting pyviz-comms>=0.7.3\n",
      "  Downloading pyviz_comms-2.0.1-py2.py3-none-any.whl (240 kB)\n",
      "Collecting panel>=0.8.0\n",
      "  Downloading panel-0.10.2-py2.py3-none-any.whl (8.1 MB)\n",
      "Requirement already satisfied, skipping upgrade: pytz>=2017.2 in c:\\users\\localuser\\anaconda3\\lib\\site-packages (from pandas->hvplot) (2020.1)\n",
      "Requirement already satisfied, skipping upgrade: python-dateutil>=2.7.3 in c:\\users\\localuser\\anaconda3\\lib\\site-packages (from pandas->hvplot) (2.8.1)\n",
      "Requirement already satisfied, skipping upgrade: PyYAML>=3.10 in c:\\users\\localuser\\anaconda3\\lib\\site-packages (from bokeh>=1.0.0->hvplot) (5.3.1)\n",
      "Requirement already satisfied, skipping upgrade: typing-extensions>=3.7.4 in c:\\users\\localuser\\anaconda3\\lib\\site-packages (from bokeh>=1.0.0->hvplot) (3.7.4.3)\n",
      "Requirement already satisfied, skipping upgrade: packaging>=16.8 in c:\\users\\localuser\\anaconda3\\lib\\site-packages (from bokeh>=1.0.0->hvplot) (20.4)\n",
      "Requirement already satisfied, skipping upgrade: tornado>=5.1 in c:\\users\\localuser\\anaconda3\\lib\\site-packages (from bokeh>=1.0.0->hvplot) (6.0.4)\n",
      "Requirement already satisfied, skipping upgrade: pillow>=7.1.0 in c:\\users\\localuser\\anaconda3\\lib\\site-packages (from bokeh>=1.0.0->hvplot) (8.0.1)\n",
      "Requirement already satisfied, skipping upgrade: Jinja2>=2.7 in c:\\users\\localuser\\anaconda3\\lib\\site-packages (from bokeh>=1.0.0->hvplot) (2.11.2)\n",
      "Collecting markdown\n",
      "  Downloading Markdown-3.3.3-py3-none-any.whl (96 kB)\n",
      "Requirement already satisfied, skipping upgrade: tqdm in c:\\users\\localuser\\anaconda3\\lib\\site-packages (from panel>=0.8.0->holoviews>=1.11.0->hvplot) (4.50.2)\n",
      "Requirement already satisfied, skipping upgrade: requests in c:\\users\\localuser\\anaconda3\\lib\\site-packages (from panel>=0.8.0->holoviews>=1.11.0->hvplot) (2.24.0)\n",
      "Requirement already satisfied, skipping upgrade: six>=1.5 in c:\\users\\localuser\\anaconda3\\lib\\site-packages (from python-dateutil>=2.7.3->pandas->hvplot) (1.15.0)\n",
      "Requirement already satisfied, skipping upgrade: pyparsing>=2.0.2 in c:\\users\\localuser\\anaconda3\\lib\\site-packages (from packaging>=16.8->bokeh>=1.0.0->hvplot) (2.4.7)\n",
      "Requirement already satisfied, skipping upgrade: MarkupSafe>=0.23 in c:\\users\\localuser\\anaconda3\\lib\\site-packages (from Jinja2>=2.7->bokeh>=1.0.0->hvplot) (1.1.1)\n",
      "Requirement already satisfied, skipping upgrade: chardet<4,>=3.0.2 in c:\\users\\localuser\\anaconda3\\lib\\site-packages (from requests->panel>=0.8.0->holoviews>=1.11.0->hvplot) (3.0.4)\n",
      "Requirement already satisfied, skipping upgrade: urllib3!=1.25.0,!=1.25.1,<1.26,>=1.21.1 in c:\\users\\localuser\\anaconda3\\lib\\site-packages (from requests->panel>=0.8.0->holoviews>=1.11.0->hvplot) (1.25.11)\n",
      "Requirement already satisfied, skipping upgrade: idna<3,>=2.5 in c:\\users\\localuser\\anaconda3\\lib\\site-packages (from requests->panel>=0.8.0->holoviews>=1.11.0->hvplot) (2.10)\n",
      "Requirement already satisfied, skipping upgrade: certifi>=2017.4.17 in c:\\users\\localuser\\anaconda3\\lib\\site-packages (from requests->panel>=0.8.0->holoviews>=1.11.0->hvplot) (2020.6.20)\n",
      "Installing collected packages: param, pyct, colorcet, pyviz-comms, markdown, panel, holoviews, hvplot\n",
      "Successfully installed colorcet-2.0.2 holoviews-1.14.1 hvplot-0.7.0 markdown-3.3.3 panel-0.10.2 param-1.10.0 pyct-0.4.8 pyviz-comms-2.0.1\n"
     ]
    }
   ],
   "source": [
    "pip install --upgrade hvplot\n"
   ]
  },
  {
   "cell_type": "code",
   "execution_count": 2,
   "metadata": {},
   "outputs": [
    {
     "name": "stdout",
     "output_type": "stream",
     "text": [
      "Requirement already up-to-date: bokeh in c:\\users\\localuser\\anaconda3\\lib\\site-packages (2.2.3)\n",
      "Requirement already satisfied, skipping upgrade: PyYAML>=3.10 in c:\\users\\localuser\\anaconda3\\lib\\site-packages (from bokeh) (5.3.1)\n",
      "Requirement already satisfied, skipping upgrade: packaging>=16.8 in c:\\users\\localuser\\anaconda3\\lib\\site-packages (from bokeh) (20.4)\n",
      "Requirement already satisfied, skipping upgrade: Jinja2>=2.7 in c:\\users\\localuser\\anaconda3\\lib\\site-packages (from bokeh) (2.11.2)\n",
      "Requirement already satisfied, skipping upgrade: typing-extensions>=3.7.4 in c:\\users\\localuser\\anaconda3\\lib\\site-packages (from bokeh) (3.7.4.3)\n",
      "Requirement already satisfied, skipping upgrade: python-dateutil>=2.1 in c:\\users\\localuser\\anaconda3\\lib\\site-packages (from bokeh) (2.8.1)\n",
      "Requirement already satisfied, skipping upgrade: numpy>=1.11.3 in c:\\users\\localuser\\anaconda3\\lib\\site-packages (from bokeh) (1.19.2)\n",
      "Requirement already satisfied, skipping upgrade: tornado>=5.1 in c:\\users\\localuser\\anaconda3\\lib\\site-packages (from bokeh) (6.0.4)\n",
      "Requirement already satisfied, skipping upgrade: pillow>=7.1.0 in c:\\users\\localuser\\anaconda3\\lib\\site-packages (from bokeh) (8.0.1)\n",
      "Requirement already satisfied, skipping upgrade: pyparsing>=2.0.2 in c:\\users\\localuser\\anaconda3\\lib\\site-packages (from packaging>=16.8->bokeh) (2.4.7)\n",
      "Requirement already satisfied, skipping upgrade: six in c:\\users\\localuser\\anaconda3\\lib\\site-packages (from packaging>=16.8->bokeh) (1.15.0)\n",
      "Requirement already satisfied, skipping upgrade: MarkupSafe>=0.23 in c:\\users\\localuser\\anaconda3\\lib\\site-packages (from Jinja2>=2.7->bokeh) (1.1.1)\n",
      "Note: you may need to restart the kernel to use updated packages.\n"
     ]
    }
   ],
   "source": [
    "pip install --upgrade bokeh"
   ]
  },
  {
   "cell_type": "code",
   "execution_count": 3,
   "metadata": {},
   "outputs": [
    {
     "name": "stdout",
     "output_type": "stream",
     "text": [
      "Collecting python-dotenv\n",
      "  Downloading python_dotenv-0.15.0-py2.py3-none-any.whl (18 kB)\n",
      "Installing collected packages: python-dotenv\n",
      "Note: you may need to restart the kernel to use updated packages.\n",
      "Successfully installed python-dotenv-0.15.0\n"
     ]
    }
   ],
   "source": [
    "pip install python-dotenv"
   ]
  },
  {
   "cell_type": "code",
   "execution_count": null,
   "metadata": {},
   "outputs": [],
   "source": []
  }
 ],
 "metadata": {
  "kernelspec": {
   "display_name": "Python 3",
   "language": "python",
   "name": "python3"
  },
  "language_info": {
   "codemirror_mode": {
    "name": "ipython",
    "version": 3
   },
   "file_extension": ".py",
   "mimetype": "text/x-python",
   "name": "python",
   "nbconvert_exporter": "python",
   "pygments_lexer": "ipython3",
   "version": "3.8.5"
  }
 },
 "nbformat": 4,
 "nbformat_minor": 4
}
