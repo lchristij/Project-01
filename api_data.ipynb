{
 "cells": [
  {
   "cell_type": "code",
   "execution_count": null,
   "metadata": {},
   "outputs": [],
   "source": [
    "import requests\n",
    "import pandas as pd\n",
    "import hvplot.pandas\n",
    "import os\n",
    "from dotenv import load_dotenv\n",
    "import datetime as dt\n",
    "\n",
    "import holoviews as hv\n",
    "import panel as pn"
   ]
  },
  {
   "cell_type": "code",
   "execution_count": null,
   "metadata": {
    "scrolled": true
   },
   "outputs": [],
   "source": [
    "load_dotenv()"
   ]
  },
  {
   "cell_type": "code",
   "execution_count": null,
   "metadata": {},
   "outputs": [],
   "source": [
    "ra_key = os.getenv(\"RAPIDAPI_KEY\")\n",
    "print(len(ra_key))"
   ]
  },
  {
   "cell_type": "code",
   "execution_count": null,
   "metadata": {},
   "outputs": [],
   "source": [
    "url = \"https://alpha-vantage.p.rapidapi.com/query\"\n",
    "\n",
    "#querystring = {\"from_symbol\":\"EUR\",\"function\":\"FX_DAILY\",\"to_symbol\":\"USD\",\"outputsize\":\"compact\",\"datatype\":\"csv\"}\n",
    "\n",
    "# change from \"outputsize\":\"compact\" to \"outputsize\":\"full\"\n",
    "\n",
    "eur_querystring = {\"from_symbol\":\"EUR\",\"function\":\"FX_DAILY\",\"to_symbol\":\"USD\",\"outputsize\":\"full\",\"datatype\":\"csv\"}\n",
    "jpy_querystring = {\"from_symbol\":\"USD\",\"function\":\"FX_DAILY\",\"to_symbol\":\"JPY\",\"outputsize\":\"full\",\"datatype\":\"csv\"}\n",
    "gbp_querystring = {\"from_symbol\":\"GBP\",\"function\":\"FX_DAILY\",\"to_symbol\":\"USD\",\"outputsize\":\"full\",\"datatype\":\"csv\"}\n",
    "headers = {\n",
    "    'x-rapidapi-key': ra_key,\n",
    "    'x-rapidapi-host': \"alpha-vantage.p.rapidapi.com\"\n",
    "    }\n",
    "\n",
    "#response = requests.request(\"GET\", url, headers=headers, params=querystring)\n",
    "\n",
    "eur_response = requests.request(\"GET\", url, headers=headers, params=eur_querystring)\n",
    "jpy_response = requests.request(\"GET\", url, headers=headers, params=jpy_querystring)\n",
    "gbp_response = requests.request(\"GET\", url, headers=headers, params=gbp_querystring)\n",
    "#print(response.text) "
   ]
  },
  {
   "cell_type": "code",
   "execution_count": null,
   "metadata": {
    "scrolled": true
   },
   "outputs": [],
   "source": [
    "print('euro')\n",
    "print(eur_response.text)\n",
    "print('yen')\n",
    "print(jpy_response.text)\n",
    "print('pound')\n",
    "print(gbp_response.text)"
   ]
  },
  {
   "cell_type": "code",
   "execution_count": null,
   "metadata": {},
   "outputs": [],
   "source": [
    "eur_data = eur_response.text\n",
    "eur_df = pd.DataFrame([x.split(',') for x in eur_data.splitlines()])\n",
    "eur_df.columns = eur_df.iloc[0]\n",
    "eur_df = eur_df[1:]\n",
    "\n",
    "jpy_data = jpy_response.text\n",
    "jpy_df = pd.DataFrame([x.split(',') for x in jpy_data.splitlines()])\n",
    "jpy_df.columns = jpy_df.iloc[0]\n",
    "jpy_df = jpy_df[1:]\n",
    "\n",
    "gbp_data = gbp_response.text\n",
    "gbp_df = pd.DataFrame([x.split(',') for x in gbp_data.splitlines()])\n",
    "gbp_df.columns = gbp_df.iloc[0]\n",
    "gbp_df = gbp_df[1:]"
   ]
  },
  {
   "cell_type": "code",
   "execution_count": null,
   "metadata": {},
   "outputs": [],
   "source": [
    "#eur_df.shape\n",
    "\n",
    "#eur_df.head()\n",
    "\n",
    "#eur_df.tail()\n",
    "\n",
    "#print(type(eur_df))"
   ]
  },
  {
   "cell_type": "code",
   "execution_count": null,
   "metadata": {},
   "outputs": [],
   "source": [
    "curr_fx = pd.DataFrame()\n",
    "curr_fx = pd.concat([eur_df, jpy_df, gbp_df], axis=1, sort=False)\n",
    "#curr_fx['date'] = curr_fx.set_index['date']\n",
    "curr_fx.head()"
   ]
  },
  {
   "cell_type": "code",
   "execution_count": null,
   "metadata": {
    "scrolled": true
   },
   "outputs": [],
   "source": [
    "curr_fx.columns = ['datetime', 'eur_open', 'eur_high', 'eur_low', 'eur_close', 'jpy_date', 'jpy_open', 'jpy_high', 'jpy_low', 'jpy_close', 'gbp_date', 'gbp_open', 'gbp_high', 'gbp_low', 'gbp_close']\n",
    "curr_fx = curr_fx.drop(columns=['jpy_date', 'gbp_date'])\n",
    "curr_fx.head()"
   ]
  },
  {
   "cell_type": "code",
   "execution_count": null,
   "metadata": {},
   "outputs": [],
   "source": [
    "#curr_fx.info()\n",
    "#print(curr_fx['date'])\n",
    "curr_fx['datetime'] = pd.to_datetime(curr_fx['datetime'])\n",
    "#curr_fx['date'] = curr_fx['datetime'].dt.date\n",
    "#curr_fx.reset_index(inplace=True)\n",
    "curr_fx.set_index('datetime', inplace=True)\n",
    "curr_fx.info()\n",
    "curr_fx.head()"
   ]
  },
  {
   "cell_type": "code",
   "execution_count": null,
   "metadata": {},
   "outputs": [],
   "source": [
    "curr_fx['year'] = curr_fx.index.year\n",
    "curr_fx['month'] = curr_fx.index.month\n",
    "curr_fx['week'] = curr_fx.index.week\n",
    "curr_fx['day'] = curr_fx.index.day\n",
    "curr_fx.head()"
   ]
  },
  {
   "cell_type": "code",
   "execution_count": null,
   "metadata": {},
   "outputs": [],
   "source": [
    "curr_fx['eur_open'] = curr_fx['eur_open'].astype(float)\n",
    "curr_fx['eur_high'] = curr_fx['eur_high'].astype(float)\n",
    "curr_fx['eur_low'] = curr_fx['eur_low'].astype(float)\n",
    "curr_fx['eur_close'] = curr_fx['eur_close'].astype(float)\n",
    "curr_fx['jpy_open'] = curr_fx['jpy_open'].astype(float)\n",
    "curr_fx['jpy_high'] = curr_fx['jpy_high'].astype(float)\n",
    "curr_fx['jpy_low'] = curr_fx['jpy_low'].astype(float)\n",
    "curr_fx['jpy_close'] = curr_fx['jpy_close'].astype(float)\n",
    "curr_fx['gbp_open'] = curr_fx['gbp_open'].astype(float)\n",
    "curr_fx['gbp_high'] = curr_fx['gbp_high'].astype(float)\n",
    "curr_fx['gbp_low'] = curr_fx['gbp_low'].astype(float)\n",
    "curr_fx['gbp_close'] = curr_fx['gbp_close'].astype(float)\n",
    "curr_fx.info()"
   ]
  },
  {
   "cell_type": "code",
   "execution_count": null,
   "metadata": {},
   "outputs": [],
   "source": []
  },
  {
   "cell_type": "code",
   "execution_count": null,
   "metadata": {
    "scrolled": false
   },
   "outputs": [],
   "source": [
    "curr_fx.hvplot(x='datetime', y=['eur_open', 'eur_high', 'eur_low', 'eur_close', 'jpy_open', 'jpy_high', 'jpy_low', 'jpy_close', 'gbp_open', 'gbp_high', 'gbp_low', 'gbp_close'],width=1000, height=800, groupby=['year'], grid=True)"
   ]
  },
  {
   "cell_type": "code",
   "execution_count": null,
   "metadata": {},
   "outputs": [],
   "source": [
    "y = pn.widgets.Select(name='currency', options=['eur_open', 'eur_high', 'eur_low', 'eur_close', 'jpy_open', 'jpy_high', 'jpy_low', 'jpy_close', 'gbp_open', 'gbp_high', 'gbp_low', 'gbp_close'])\n",
    "\n",
    "plot = curr_fx.hvplot(y=y, width=800, height=400, grid=True)\n",
    "\n",
    "pn.Row(pn.WidgetBox(y), plot)\n"
   ]
  },
  {
   "cell_type": "code",
   "execution_count": null,
   "metadata": {},
   "outputs": [],
   "source": []
  }
 ],
 "metadata": {
  "kernelspec": {
   "display_name": "Python 3",
   "language": "python",
   "name": "python3"
  },
  "language_info": {
   "codemirror_mode": {
    "name": "ipython",
    "version": 3
   },
   "file_extension": ".py",
   "mimetype": "text/x-python",
   "name": "python",
   "nbconvert_exporter": "python",
   "pygments_lexer": "ipython3",
   "version": "3.8.3"
  }
 },
 "nbformat": 4,
 "nbformat_minor": 4
}
